{
  "nbformat": 4,
  "nbformat_minor": 0,
  "metadata": {
    "colab": {
      "provenance": []
    },
    "kernelspec": {
      "name": "python3",
      "display_name": "Python 3"
    },
    "language_info": {
      "name": "python"
    }
  },
  "cells": [
    {
      "cell_type": "code",
      "execution_count": 1,
      "metadata": {
        "colab": {
          "base_uri": "https://localhost:8080/"
        },
        "id": "SwK76wLzv18K",
        "outputId": "1fd6bf19-98c9-4234-a9c2-9a5463e283b3"
      },
      "outputs": [
        {
          "output_type": "stream",
          "name": "stdout",
          "text": [
            "(34857, 19)\n",
            "(34857,)\n",
            "(34854, 19)\n",
            "(34854,)\n"
          ]
        }
      ],
      "source": [
        "import pandas as pd;\n",
        "from sklearn.preprocessing import LabelEncoder\n",
        "data=pd.read_csv('/content/drive/MyDrive/Colab Notebooks/CSE303/Lab-5/melbourne_housing_raw.csv')\n",
        "from sklearn import preprocessing\n",
        "label_encoder = preprocessing.LabelEncoder()\n",
        "for column in data.keys():\n",
        "  if data[column].dtype == 'object':\n",
        "    data[column] = label_encoder.fit_transform(data[column])\n",
        "x=data.drop('Propertycount',axis=1)\n",
        "y=data['Propertycount']\n",
        "print(x.shape)\n",
        "print(y.shape)\n",
        "if y.isnull().any():\n",
        "    y = y.dropna()\n",
        "    x = x.loc[y.index]\n",
        "print(x.shape)\n",
        "print(y.shape)\n",
        "from sklearn.model_selection import train_test_split\n",
        "from sklearn.linear_model import LinearRegression\n",
        "from sklearn.metrics import mean_absolute_error\n",
        "def evaluate_model(x_train, x_test, y_train, y_test):\n",
        "    model = LinearRegression()\n",
        "    model.fit(x_train, y_train)\n",
        "    y_pred = model.predict(x_test)\n",
        "    return mean_absolute_error(y_test, y_pred)\n",
        "def forward_feature_selection(x_train, x_test, y_train, y_test):\n",
        "    selected_features = []\n",
        "    remaining_features = list(x_train.columns)\n",
        "    best_mae = float('inf')\n",
        "    mae_progression = []\n",
        "    while remaining_features:\n",
        "        mae_candidates = {}\n",
        "        for feature in remaining_features:\n",
        "            current_features = selected_features + [feature]\n",
        "            mae = evaluate_model(x_train[current_features], x_test[current_features], y_train, y_test)\n",
        "            mae_candidates[feature] = mae\n",
        "        best_feature = min(mae_candidates, key=mae_candidates.get)\n",
        "        best_feature_mae = mae_candidates[best_feature]\n",
        "        if best_feature_mae < best_mae:\n",
        "            selected_features.append(best_feature)\n",
        "            remaining_features.remove(best_feature)\n",
        "            best_mae = best_feature_mae\n",
        "            mae_progression.append(best_mae)\n",
        "            print(f\"Selected feature: {best_feature}, MAE: {best_feature_mae}\")\n",
        "        else:\n",
        "            break\n",
        "    return selected_features, mae_progression\n"
      ]
    }
  ]
}